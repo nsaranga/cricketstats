{
 "cells": [
  {
   "cell_type": "code",
   "execution_count": 1,
   "metadata": {},
   "outputs": [],
   "source": [
    "import matplotlib.pyplot as plt\n",
    "import numpy as np\n",
    "import pandas as pd\n",
    "import os\n",
    "import sys\n",
    "import seaborn as sns\n",
    "import sklearn.ensemble\n",
    "import json\n",
    "\n",
    "# module_path = os.path.abspath(os.path.join(\"./cricketstats/\"))\n",
    "# if module_path not in sys.path:\n",
    "#     sys.path.append(module_path)\n",
    "import cricketstats\n",
    "\n",
    "Ozbatters = [\"DA Warner\", \"SPD Smith\",  \"M Labuschagne\",  \"TM Head\", \"MS Harris\", \"C Green\", \"AT Carey\", \"UT Khawaja\"]\n",
    "Ozbowlers = [\"PJ Cummins\", \"JR Hazlewood\", \"MA Starc\", \"NM Lyon\", \"C Green\", 'SM Boland']\n",
    "bblteams = [\"Sydney Thunder\", \"Melbourne Renegades\", \"Brisbane Heat\", \"Sydney Sixers\", \"Melbourne Stars\", \"Perth Scorchers\", \"Adelaide Strikers\", \"Hobart Hurricanes\"]\n",
    "Engbatters = ['H Hameed', 'RJ Burns', 'Z Crawley', 'DJ Malan', 'JE Root', 'BA Stokes', 'OJ Pope', 'JM Bairstow', 'JC Buttler']\n",
    "Engbowlers = [\"MJ Leach\", \"JM Anderson\", \"MA Wood\", \"OE Robinson\", \"BA Stokes\", \"SCJ Broad\"]\n",
    "Indbowlers = ['JJ Bumrah', 'Mohammed Shami', 'Mohammed Siraj', 'I Sharma', 'B Kumar', \"SN Thakur\"]\n",
    "Indbatters = [\"KL Rahul\", 'Shubman Gill', \"MA Agarwal\", \"CA Pujara\",\"V Kohli\",\"AM Rahane\",\"GH Vihari\", \"RR Pant\",\"R Ashwin\", \"SN Thakur\"]\n",
    "\n",
    "search1 = cricketstats.search(players=Ozbatters)\n",
    "search2 = cricketstats.search(teams=[\"England\", \"Australia\"])\n",
    "search3 = cricketstats.search(players=Engbatters)\n",
    "search4 = cricketstats.search(players=Ozbowlers)\n",
    "search5 = cricketstats.search(players=Engbowlers)\n",
    "search6 = cricketstats.search(players=Indbatters)\n",
    "test = cricketstats.search(allteams=True)\n",
    "\n",
    "%matplotlib tk"
   ]
  },
  {
   "cell_type": "code",
   "execution_count": 2,
   "metadata": {},
   "outputs": [],
   "source": [
    "test.stats(database=\"C:/Users/mane/Downloads/all_json.zip\", from_date=(2007, 8, 12), to_date=(2022, 12, 31), matchtype=[\"T20\"], betweenovers=[], innings=[], sex=[\"male\"], playersteams=[], oppositionbatters=[], oppositionbowlers=[], oppositionteams=[], venue=[], event=[\"Big Bash League\", \"Indian Premier League\"], matchresult=[], superover=None, battingposition=[], bowlingposition=[], fielders=[], sumstats=False)"
   ]
  },
  {
   "cell_type": "code",
   "execution_count": 3,
   "metadata": {},
   "outputs": [
    {
     "data": {
      "text/plain": [
       "<seaborn.axisgrid.FacetGrid at 0x1fd23b3ae30>"
      ]
     },
     "execution_count": 3,
     "metadata": {},
     "output_type": "execute_result"
    }
   ],
   "source": [
    "sns.displot(data=test.ballresult, kind=\"hist\",x=\"Ball\", palette=\"tab10\", alpha=1, stat=\"probability\", col=\"Event\", common_norm=False, col_wrap=2)"
   ]
  },
  {
   "cell_type": "code",
   "execution_count": 26,
   "metadata": {},
   "outputs": [
    {
     "data": {
      "text/plain": [
       "<seaborn.axisgrid.FacetGrid at 0x1b3b72241c0>"
      ]
     },
     "execution_count": 26,
     "metadata": {},
     "output_type": "execute_result"
    }
   ],
   "source": [
    "sns.relplot(data=test.result.loc[(test.result[\"Balls Faced\"]>200)&(test.result[\"Survival Consistency\"]<60)], kind=\"scatter\", x=\"Survival Consistency\", y=\"Scoring Consistency\", hue=\"Players\", palette=\"deep\")"
   ]
  },
  {
   "cell_type": "code",
   "execution_count": 37,
   "metadata": {},
   "outputs": [
    {
     "name": "stdout",
     "output_type": "stream",
     "text": [
      "[150.816]\n",
      "[0.44363067 0.25126709 0.30510224]\n"
     ]
    }
   ],
   "source": [
    "X= test.ballresult.loc[test.ballresult['Batting Team']==\"Perth Scorchers\",[\"Current Score\", \"Current Outs\", \"Ball\",]]\n",
    "y= test.ballresult.loc[test.ballresult['Batting Team']==\"Perth Scorchers\",[\"Final Score\"]]\n",
    "\n",
    "clf = sklearn.ensemble.RandomForestRegressor()\n",
    "cs=68\n",
    "io=4\n",
    "ib=9.6\n",
    "target=172\n",
    "clf.fit(X.values, y.values.ravel())\n",
    "\n",
    "# predict on test data\n",
    "print(clf.predict([[cs,io,ib]]))\n",
    "print(clf.feature_importances_)"
   ]
  },
  {
   "cell_type": "code",
   "execution_count": null,
   "metadata": {},
   "outputs": [],
   "source": [
    "sns.relplot(data=test.teamsballresult.loc[test.teamsballresult[\"Batting Team\"]==\"South Africa\"], kind=\"scatter\", x=\"Ball\", y=\"Current Score\", hue=\"Final Score\", palette=\"deep\")"
   ]
  },
  {
   "cell_type": "code",
   "execution_count": null,
   "metadata": {},
   "outputs": [],
   "source": [
    "# g=sns.FacetGrid(data=test.ballresult.loc[(test.ballresult[\"Batter Score\"]<7)&(test.ballresult[\"Over\"]<150)], col=\"Innings\",  hue=\"Batter Score\")\n",
    "\n",
    "# g.map(sns.displot, \"Ball\", kind=\"hist\", palette=\"tab10\", alpha=1, multiple=\"fill\", stat=\"probability\", discrete=True, common_norm=False)\n",
    "\n",
    "sns.displot(data=test.ballresult.loc[(test.ballresult[\"Over\"]<161)&(test.ballresult[\"Batter Score\"]<7)&(test.ballresult[\"Batter Score\"]>0)], kind=\"hist\", hue=\"Batter Score\", x=\"Ball\", palette=\"tab10\", alpha=1, multiple=\"fill\", stat=\"proportion\", common_norm=True, discrete=True, col=\"Innings\", col_wrap=2)"
   ]
  },
  {
   "cell_type": "code",
   "execution_count": null,
   "metadata": {},
   "outputs": [],
   "source": [
    "sns.catplot(data=test.inningsresult.loc[test.inningsresult[\"Scores\"]>0, [\"Teams\", \"Scores\"]], kind=\"box\", y=\"Scores\", x=\"Teams\", meanline=True, showmeans=True)"
   ]
  },
  {
   "cell_type": "code",
   "execution_count": null,
   "metadata": {},
   "outputs": [],
   "source": [
    "test.inningsresult.loc[(test.inningsresult[\"Batting Position\"]==1.0)|(test.inningsresult[\"Batting Position\"]==2.0)].hist(column=\"Scores\", by=\"Event\", rot=\"0\", meanline=True, showmeans=True)"
   ]
  },
  {
   "cell_type": "code",
   "execution_count": null,
   "metadata": {},
   "outputs": [],
   "source": [
    "list, p = hawkeye_scraper_helpers.get_available_match_id_list()\n",
    "print(p)"
   ]
  },
  {
   "cell_type": "code",
   "execution_count": null,
   "metadata": {},
   "outputs": [],
   "source": [
    "# HawkEyeScrapers.\n",
    "df = hawkeye_scraper_helpers.get_tracking_df_from_matchid(33762)\n",
    "metadata = hawkeye_scraper_helpers.get_metadata_df_from_matchid(9151) \n",
    "df1 = pd.read_csv(\"/home/saranga/Downloads/mensTestHawkeyeStats.csv\")\n",
    "metadata[\"venue_metadata\"]"
   ]
  },
  {
   "cell_type": "code",
   "execution_count": null,
   "metadata": {},
   "outputs": [],
   "source": [
    "import zipfile, json, venueindex\n",
    "venues = venueindex.venues\n",
    "try:\n",
    "    matches = zipfile.ZipFile(\"/home/saranga/Downloads/all_json.zip\", 'r')\n",
    "    filelist = matches.namelist()\n",
    "    for eachfile in filelist:\n",
    "        if \".json\" not in eachfile:\n",
    "            continue\n",
    "        matchdata = matches.open(eachfile)\n",
    "        match = json.load(matchdata)\n",
    "        if match[\"info\"][\"venue\"] not in venues[\"venues\"]:\n",
    "            venues[\"venues\"].append(match[\"info\"][\"venue\"])\n",
    "        matchdata.close()\n",
    "\n",
    "finally:\n",
    "    file = open(\"./venueindex.py\", \"w\")\n",
    "    file.write(\"venues = \" + repr(venues))\n",
    "    file.close\n"
   ]
  },
  {
   "cell_type": "code",
   "execution_count": null,
   "metadata": {},
   "outputs": [],
   "source": [
    "# currentdir = os.path.dirname(os.path.abspath(\"./cricketstats/\")\n",
    "playerindexfile = open(\"/home/saranga/github/cricketstats/playerindex.json\")\n",
    "players = json.load(playerindexfile)\n",
    "dupes=[]\n",
    "playerlist=[]\n",
    "templist=[]\n",
    "for eachlist in players[\"Bowling\"]:\n",
    "    playerlist.extend(players[\"Bowling\"][eachlist])\n",
    "\n",
    "for eachplayer in playerlist:\n",
    "    if not templist:\n",
    "        templist.append(eachplayer)\n",
    "    elif eachplayer in templist:\n",
    "        dupes.append(eachplayer)\n",
    "    else:\n",
    "        templist.append(eachplayer)\n",
    "print(dupes)"
   ]
  }
 ],
 "metadata": {
  "interpreter": {
   "hash": "31f2aee4e71d21fbe5cf8b01ff0e069b9275f58929596ceb00d14d90e3e16cd6"
  },
  "kernelspec": {
   "display_name": "Python 3.8.10 64-bit",
   "language": "python",
   "name": "python3"
  },
  "language_info": {
   "codemirror_mode": {
    "name": "ipython",
    "version": 3
   },
   "file_extension": ".py",
   "mimetype": "text/x-python",
   "name": "python",
   "nbconvert_exporter": "python",
   "pygments_lexer": "ipython3",
   "version": "3.10.0"
  },
  "orig_nbformat": 4
 },
 "nbformat": 4,
 "nbformat_minor": 2
}
